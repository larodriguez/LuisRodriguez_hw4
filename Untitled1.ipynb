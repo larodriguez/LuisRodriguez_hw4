{
 "metadata": {
  "name": "",
  "signature": "sha256:78d8bffd718a32ce44b64cdf1256ed963f0efda51cec3bb781759888d4165d7c"
 },
 "nbformat": 3,
 "nbformat_minor": 0,
 "worksheets": [
  {
   "cells": [
    {
     "cell_type": "heading",
     "level": 2,
     "metadata": {},
     "source": [
      "Taller # 4"
     ]
    },
    {
     "cell_type": "code",
     "collapsed": false,
     "input": [
      "%pylab inline\n",
      "import matplotlib.pyplot as plt\n",
      "import numpy as np\n",
      "import os\n",
      "import shutil"
     ],
     "language": "python",
     "metadata": {},
     "outputs": [
      {
       "output_type": "stream",
       "stream": "stdout",
       "text": [
        "Populating the interactive namespace from numpy and matplotlib\n"
       ]
      }
     ],
     "prompt_number": 1
    },
    {
     "cell_type": "heading",
     "level": 4,
     "metadata": {},
     "source": [
      "Trae los nombres de los 1000 archivos de tiro parabolico a un arreglo"
     ]
    },
    {
     "cell_type": "code",
     "collapsed": false,
     "input": [
      "archivos = os.listdir('Brahe-3141-f')\n",
      "print len(archivos)"
     ],
     "language": "python",
     "metadata": {},
     "outputs": [
      {
       "output_type": "stream",
       "stream": "stdout",
       "text": [
        "1000\n"
       ]
      }
     ],
     "prompt_number": 2
    },
    {
     "cell_type": "heading",
     "level": 4,
     "metadata": {},
     "source": [
      "Identifica cuales de los archivos en la carpeta Brahe-3141-f son ruido, encuentra 116 archivos de ruido, NOTA: para la ejecucion del programa la carpeta \"Ruidos\" debe inicializar vacia para que funcione bien"
     ]
    },
    {
     "cell_type": "code",
     "collapsed": false,
     "input": [
      "for i in range (len(archivos)):\n",
      "    data = np.loadtxt(\"Brahe-3141-f/\"+archivos[i])\n",
      "    x = data[:,1]\n",
      "    a = 0\n",
      "    b = 0\n",
      "    for j in range (38):\n",
      "        if (x[j]>a):\n",
      "            a = x[j]\n",
      "            b+=1\n",
      "    for k in range (38-b):\n",
      "        if(x[b+k]>x[b]):\n",
      "            shutil.copy2(\"Brahe-3141-f/\"+archivos[i], \"Ruidos\")       "
     ],
     "language": "python",
     "metadata": {},
     "outputs": [],
     "prompt_number": 3
    },
    {
     "cell_type": "code",
     "collapsed": true,
     "input": [
      "archivos2 = os.listdir('Ruidos')\n",
      "print len(archivos2)"
     ],
     "language": "python",
     "metadata": {},
     "outputs": [
      {
       "output_type": "stream",
       "stream": "stdout",
       "text": [
        "116\n"
       ]
      }
     ],
     "prompt_number": 4
    },
    {
     "cell_type": "heading",
     "level": 4,
     "metadata": {},
     "source": [
      "Elimina los archivos de ruido de la carpeta inicial"
     ]
    },
    {
     "cell_type": "code",
     "collapsed": false,
     "input": [
      "for i in range (len(archivos2)):\n",
      "    os.remove(\"Brahe-3141-f/\"+archivos2[i])"
     ],
     "language": "python",
     "metadata": {},
     "outputs": [],
     "prompt_number": 5
    },
    {
     "cell_type": "heading",
     "level": 4,
     "metadata": {},
     "source": [
      "Despues de eliminar los archivos con ruido, tenemos que analizar los archivos buenos. Si se supone que todos los experimentos siguieron una trayectoria de tiro parabolico, en movimiento Uniformemente acelerado (Ya que estan en vacio). la ecuaci\u00f3n que describe el movimiento de cada uno es:  y = Yo + Vot + 1/2 Aot^2"
     ]
    },
    {
     "cell_type": "code",
     "collapsed": false,
     "input": [
      "archivos3 = os.listdir('Brahe-3141-f')\n",
      "print len(archivos3)"
     ],
     "language": "python",
     "metadata": {},
     "outputs": [
      {
       "output_type": "stream",
       "stream": "stdout",
       "text": [
        "884\n"
       ]
      }
     ],
     "prompt_number": 6
    },
    {
     "cell_type": "heading",
     "level": 4,
     "metadata": {},
     "source": [
      "Se puede interpretar cada uno de los experimentos como un sistema de ecuaciones del tipo anterior, de manera general seria algo: d = Gm donde d = [y], G es la matriz de coeficientes y m =[Yo, Vo, Aoz]. Primero entontramos G y luego Gt que es la matriz transpuesta de G."
     ]
    },
    {
     "cell_type": "code",
     "collapsed": false,
     "input": [
      "for i in range (len(archivos3)):\n",
      "    data = np.loadtxt(\"Brahe-3141-f/\"+archivos3[i])\n",
      "    x = data[:,0]\n",
      "    d = data[:,1]\n",
      "    G = np.zeros((38,3))\n",
      "    GT = np.zeros((3,38))\n",
      "    D = np.zeros((38,1))\n",
      "    \n",
      "    #Convierte el arreglo y en un vector Y de tama\u00f1o (38x1)\n",
      "    for t in range (38):\n",
      "        D[t][0] = D[t]\n",
      "            \n",
      "    #se genera la matriz G para cada uno de los experimentos\n",
      "    for j in range (38):\n",
      "        G[j][0] = 1\n",
      "        G[j][1] = x[j] \n",
      "        G[j][2] = (((x[j])*(x[j]))/2)\n",
      "        \n",
      "        #Se genera la matris Gtranspuesta GT para cada uno de los experimentos\n",
      "        for k in range (38):\n",
      "            GT[0][k] = G[k][0]\n",
      "            GT[1][k] = G[k][1]\n",
      "            GT[2][k] = G[k][2] \n",
      "            \n",
      "    matrizG = np.matrix(G)\n",
      "    matrizGT = np.matrix(GT)\n",
      "    \n",
      "    #si hacemos que GT*d = GT*G*m y nombramos como B=GT*d y A=GT*G\n",
      "    #Nuestro nuevo sistema es A*m=B\n",
      "    matrizB = matrizGT*D\n",
      "    matrizA = matrizGT*matrizG\n",
      "    \n",
      "    \n",
      "    data2=\"matrizA.dat\"\n",
      "    out = open(data2,\"w\")\n",
      "    out.write(matrizA)\n",
      "    out.close()"
     ],
     "language": "python",
     "metadata": {},
     "outputs": [],
     "prompt_number": 10
    },
    {
     "cell_type": "code",
     "collapsed": false,
     "input": [],
     "language": "python",
     "metadata": {},
     "outputs": []
    },
    {
     "cell_type": "code",
     "collapsed": false,
     "input": [],
     "language": "python",
     "metadata": {},
     "outputs": []
    }
   ],
   "metadata": {}
  }
 ]
}