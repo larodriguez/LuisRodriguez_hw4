{
 "metadata": {
  "name": "",
  "signature": "sha256:17b2b7b2c1e5e6b526a0e4f2eff8a56ceba49250851902a533a929662429276f"
 },
 "nbformat": 3,
 "nbformat_minor": 0,
 "worksheets": [
  {
   "cells": [
    {
     "cell_type": "heading",
     "level": 2,
     "metadata": {},
     "source": [
      "Taller # 4"
     ]
    },
    {
     "cell_type": "markdown",
     "metadata": {},
     "source": [
      "Es el a\u00f1o 2150. Despu\u00e9s de los descubrimientos de exoplanetas similares a la Tierra en el 2020 y de haber resuelto en el 2080 el problema de viaje inter-estelar en escalas de tiempo humanas, es una pr\u00e1ctica com\u00fan para los estudiantes de la Universidad de los Andes hacer salidas de campo a otros planetas.\n",
      "En una de estas salidas de campo, el objetivo de los estudiantes de las 300 secciones de Fisica I (la Universidad ahora cuenta con 500 mil estudiantes) consiste en repartirse sobre la superficie del Planeta Brahe-3141-f, similar a la Tierra en su masa y radio, para hacer experimentos de movimiento parab \u0301olico y deducir el valor de la gravedad en diferentes lugares del planeta.\n",
      "Sus experimentos de alt\u00edsima precisi\u00f3n (con errores en mediciones de tiempos y posiciones desprecia- bles) en c\u00e1maras gigantes de alto vac\u00edo consisten en hacer tiros parab\u00f3licos y medir durante 4 segundos la trayectoria del proyecto.\n",
      "Para evitar sesgos en las mediciones, cada uno de los tiros parab \u0301olicos en cada una de las 1000 posiciones sobre Brahe-3141-f tiene diferentes velocidades iniciales.\n",
      "Hay 1000 archivos diferentes con los datos de estos experimentos. Desafortunadamente cerca de 100 archivos estan corruptos y tienen datos con posiciones que corresponden a ruido en la medici\u00f3n."
     ]
    },
    {
     "cell_type": "code",
     "collapsed": false,
     "input": [
      "%pylab inline\n",
      "import matplotlib.pyplot as plt\n",
      "import numpy as np\n",
      "import os\n",
      "import shutil"
     ],
     "language": "python",
     "metadata": {},
     "outputs": [
      {
       "output_type": "stream",
       "stream": "stdout",
       "text": [
        "Populating the interactive namespace from numpy and matplotlib\n"
       ]
      }
     ],
     "prompt_number": 18
    },
    {
     "cell_type": "heading",
     "level": 4,
     "metadata": {},
     "source": [
      "ARREGLAR LOS ARCHIVOS DE TIRO PARABOLICO"
     ]
    },
    {
     "cell_type": "code",
     "collapsed": false,
     "input": [
      "archivos = os.listdir('Brahe-3141-f')\n",
      "print len(archivos)"
     ],
     "language": "python",
     "metadata": {},
     "outputs": [
      {
       "output_type": "stream",
       "stream": "stdout",
       "text": [
        "1000\n"
       ]
      }
     ],
     "prompt_number": 19
    },
    {
     "cell_type": "heading",
     "level": 4,
     "metadata": {},
     "source": [
      "Identifica cuales de los archivos en la carpeta Brahe-3141-f son ruido, encuentra 116 archivos de ruido, NOTA: para la ejecucion del programa la carpeta \"Ruidos\" debe inicializar vacia para que funcione bien"
     ]
    },
    {
     "cell_type": "code",
     "collapsed": false,
     "input": [
      "for i in range (len(archivos)):\n",
      "    data = np.loadtxt(\"Brahe-3141-f/\"+archivos[i])\n",
      "    x = data[:,1]\n",
      "    a = 0\n",
      "    b = 0\n",
      "    for j in range (38):\n",
      "        if (x[j]>a):\n",
      "            a = x[j]\n",
      "            b+=1\n",
      "    for k in range (38-b):\n",
      "        if(x[b+k]>x[b]):\n",
      "            shutil.copy2(\"Brahe-3141-f/\"+archivos[i], \"Ruidos\")       "
     ],
     "language": "python",
     "metadata": {},
     "outputs": [],
     "prompt_number": 20
    },
    {
     "cell_type": "code",
     "collapsed": true,
     "input": [
      "archivos2 = os.listdir('Ruidos')\n",
      "print len(archivos2)"
     ],
     "language": "python",
     "metadata": {},
     "outputs": [
      {
       "output_type": "stream",
       "stream": "stdout",
       "text": [
        "116\n"
       ]
      }
     ],
     "prompt_number": 21
    },
    {
     "cell_type": "heading",
     "level": 4,
     "metadata": {},
     "source": [
      "Elimina los archivos de ruido de la carpeta inicial"
     ]
    },
    {
     "cell_type": "code",
     "collapsed": false,
     "input": [
      "for i in range (len(archivos2)):\n",
      "    os.remove(\"Brahe-3141-f/\"+archivos2[i])"
     ],
     "language": "python",
     "metadata": {},
     "outputs": [],
     "prompt_number": 22
    },
    {
     "cell_type": "heading",
     "level": 4,
     "metadata": {},
     "source": [
      "Despues de eliminar los archivos con ruido, tenemos que analizar los archivos buenos. Si se supone que todos los experimentos siguieron una trayectoria de tiro parabolico, en movimiento Uniformemente acelerado (Ya que estan en vacio). la ecuaci\u00f3n que describe el movimiento de cada uno es:  y = Yo + Vot + 1/2 Aot^2"
     ]
    },
    {
     "cell_type": "code",
     "collapsed": false,
     "input": [
      "archivos3 = os.listdir('Brahe-3141-f')\n",
      "print len(archivos3)"
     ],
     "language": "python",
     "metadata": {},
     "outputs": [
      {
       "output_type": "stream",
       "stream": "stdout",
       "text": [
        "884\n"
       ]
      }
     ],
     "prompt_number": 23
    },
    {
     "cell_type": "heading",
     "level": 4,
     "metadata": {},
     "source": [
      "Se puede interpretar cada uno de los experimentos como un sistema de ecuaciones del tipo anterior, de manera general seria algo: d = Gm donde d = [y], G es la matriz de coeficientes y m =[Yo, Vo, Aoz]. Primero entontramos G y luego Gt que es la matriz transpuesta de G."
     ]
    },
    {
     "cell_type": "code",
     "collapsed": false,
     "input": [
      "for i in range (len(archivos3)):\n",
      "    data = np.loadtxt(\"Brahe-3141-f/\"+archivos3[i])\n",
      "    x = data[:,0]\n",
      "    d = data[:,1]\n",
      "    G = np.zeros((38,3))\n",
      "    GT = np.zeros((3,38))\n",
      "    D = np.zeros((38,1))\n",
      "    \n",
      "    #Convierte el arreglo y en un vector Y de tama\u00f1o (38x1)\n",
      "    for t in range (38):\n",
      "        D[t][0] = D[t]\n",
      "            \n",
      "    #se genera la matriz G para cada uno de los experimentos\n",
      "    for j in range (38):\n",
      "        G[j][0] = 1\n",
      "        G[j][1] = x[j] \n",
      "        G[j][2] = (((x[j])*(x[j]))/2)\n",
      "        \n",
      "        #Se genera la matris Gtranspuesta GT para cada uno de los experimentos\n",
      "        for k in range (38):\n",
      "            GT[0][k] = G[k][0]\n",
      "            GT[1][k] = G[k][1]\n",
      "            GT[2][k] = G[k][2] \n",
      "            \n",
      "    matrizG = np.matrix(G)\n",
      "    matrizGT = np.matrix(GT)\n",
      "    \n",
      "    #si hacemos que GT*d = GT*G*m y nombramos como B=GT*d y A=GT*G\n",
      "    #Nuestro nuevo sistema es A*m=B\n",
      "    matrizB = matrizGT*D\n",
      "    matrizA = matrizGT*matrizG\n",
      "    "
     ],
     "language": "python",
     "metadata": {},
     "outputs": [],
     "prompt_number": 24
    },
    {
     "cell_type": "code",
     "collapsed": false,
     "input": [],
     "language": "python",
     "metadata": {},
     "outputs": []
    },
    {
     "cell_type": "code",
     "collapsed": false,
     "input": [],
     "language": "python",
     "metadata": {},
     "outputs": []
    }
   ],
   "metadata": {}
  }
 ]
}