{
 "metadata": {
  "name": "",
  "signature": "sha256:46a56da2ebc9e767082f84636034d01d5d23971ba8b62c9c739c8e18e2fec952"
 },
 "nbformat": 3,
 "nbformat_minor": 0,
 "worksheets": [
  {
   "cells": [
    {
     "cell_type": "heading",
     "level": 2,
     "metadata": {},
     "source": [
      "Taller # 4"
     ]
    },
    {
     "cell_type": "code",
     "collapsed": false,
     "input": [
      "%pylab inline\n",
      "import matplotlib.pyplot as plt\n",
      "import numpy as np\n",
      "import os\n",
      "import shutil"
     ],
     "language": "python",
     "metadata": {},
     "outputs": [
      {
       "output_type": "stream",
       "stream": "stdout",
       "text": [
        "Populating the interactive namespace from numpy and matplotlib\n"
       ]
      }
     ],
     "prompt_number": 112
    },
    {
     "cell_type": "heading",
     "level": 4,
     "metadata": {},
     "source": [
      "Trae los nombres de los 1000 archivos de tiro parabolico a un arreglo"
     ]
    },
    {
     "cell_type": "code",
     "collapsed": false,
     "input": [
      "archivos = os.listdir('Brahe-3141-f')\n",
      "print len(archivos)"
     ],
     "language": "python",
     "metadata": {},
     "outputs": [
      {
       "output_type": "stream",
       "stream": "stdout",
       "text": [
        "1000\n"
       ]
      }
     ],
     "prompt_number": 109
    },
    {
     "cell_type": "heading",
     "level": 4,
     "metadata": {},
     "source": [
      "Identifica cuales de los archivos en la carpeta Brahe-3141-f son ruido, encuentra 116 archivos de ruido, NOTA: para la ejecucion del programa la carpeta \"Ruidos\" debe inicializar vacia para que funcione bien"
     ]
    },
    {
     "cell_type": "code",
     "collapsed": false,
     "input": [
      "for i in range (len(archivos)):\n",
      "    data = np.loadtxt(\"Brahe-3141-f/\"+archivos[i])\n",
      "    x = data[:,1]\n",
      "    a = 0\n",
      "    b = 0\n",
      "    for j in range (38):\n",
      "        if (x[j]>a):\n",
      "            a = x[j]\n",
      "            b+=1\n",
      "    for k in range (38-b):\n",
      "        if(x[b+k]>x[b]):\n",
      "            shutil.copy2(\"Brahe-3141-f/\"+archivos[i], \"Ruidos\")       "
     ],
     "language": "python",
     "metadata": {},
     "outputs": [],
     "prompt_number": 113
    },
    {
     "cell_type": "code",
     "collapsed": true,
     "input": [
      "archivos2 = os.listdir('Ruidos')\n",
      "print len(archivos2)"
     ],
     "language": "python",
     "metadata": {},
     "outputs": [
      {
       "output_type": "stream",
       "stream": "stdout",
       "text": [
        "116\n"
       ]
      }
     ],
     "prompt_number": 116
    },
    {
     "cell_type": "heading",
     "level": 4,
     "metadata": {},
     "source": [
      "Elimina los archivos de ruido de la carpeta inicial"
     ]
    },
    {
     "cell_type": "code",
     "collapsed": false,
     "input": [
      "for i in range (len(archivos2)):\n",
      "    os.remove(\"Brahe-3141-f/\"+archivos2[i])"
     ],
     "language": "python",
     "metadata": {},
     "outputs": [],
     "prompt_number": 117
    },
    {
     "cell_type": "heading",
     "level": 4,
     "metadata": {},
     "source": [
      "Despues de eliminar los archivos con ruido, tenemos que analizar los archivos buenos. Si se supone que todos los experimentos siguieron una trayectoria de tiro parabolico, en movimiento Uniformemente acelerado (Ya que estan en vacio). la ecuaci\u00f3n que describe el movimiento de cada uno es:  y = Yo + Vot + 1/2 Aot^2"
     ]
    },
    {
     "cell_type": "code",
     "collapsed": false,
     "input": [
      "archivos3 = os.listdir('Brahe-3141-f')\n",
      "print len(archivos3)"
     ],
     "language": "python",
     "metadata": {},
     "outputs": [
      {
       "output_type": "stream",
       "stream": "stdout",
       "text": [
        "884\n"
       ]
      }
     ],
     "prompt_number": 143
    },
    {
     "cell_type": "heading",
     "level": 4,
     "metadata": {},
     "source": []
    },
    {
     "cell_type": "code",
     "collapsed": false,
     "input": [
      "for i in range (len(archivos3)):\n",
      "    data = np.loadtxt(\"Brahe-3141-f/\"+archivos3[i])\n",
      "    x = data[:,0]\n",
      "    G = np.zeros((38,3))\n",
      "    for j in range (38):\n",
      "        G[j][0] = 1\n",
      "        G[j][1] = x[j] \n",
      "        G[j][2] = (((x[j])*(x[j]))/2)\n"
     ],
     "language": "python",
     "metadata": {},
     "outputs": [],
     "prompt_number": 154
    },
    {
     "cell_type": "markdown",
     "metadata": {},
     "source": []
    },
    {
     "cell_type": "code",
     "collapsed": false,
     "input": [],
     "language": "python",
     "metadata": {},
     "outputs": []
    }
   ],
   "metadata": {}
  }
 ]
}